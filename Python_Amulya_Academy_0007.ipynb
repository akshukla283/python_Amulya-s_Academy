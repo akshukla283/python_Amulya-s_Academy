{
 "cells": [
  {
   "cell_type": "markdown",
   "id": "8076d9e9",
   "metadata": {},
   "source": [
    "#### File Hanlding "
   ]
  },
  {
   "cell_type": "code",
   "execution_count": 1,
   "id": "2150e095",
   "metadata": {},
   "outputs": [],
   "source": [
    "# How to open 'txt' file in python\n",
    "# "
   ]
  },
  {
   "cell_type": "code",
   "execution_count": 3,
   "id": "6468c605",
   "metadata": {},
   "outputs": [],
   "source": [
    "# note if file is aleady exist then we can open it in any mode otherwise we will open it into 'w' wirte\n",
    "# 'a' append mode \n",
    "\n",
    "txt_file = open(\"text.txt\", \"w\")\n",
    "\n",
    "# if we will check into the directory we will find the text.txt file over there "
   ]
  },
  {
   "cell_type": "code",
   "execution_count": 4,
   "id": "59a90ec7",
   "metadata": {},
   "outputs": [],
   "source": [
    "# now write the file \n",
    "\n",
    "txt_file.write(\"Hello world\")\n",
    "\n",
    "txt_file.close()  # after writing any thing we should close it otherwise it will not save in file"
   ]
  },
  {
   "cell_type": "code",
   "execution_count": 5,
   "id": "22ed3223",
   "metadata": {},
   "outputs": [
    {
     "data": {
      "text/plain": [
       "11"
      ]
     },
     "execution_count": 5,
     "metadata": {},
     "output_type": "execute_result"
    }
   ],
   "source": [
    "# now we can check directly that \"Hello World\" has been written or not \n",
    "\n",
    "txt_file = open(\"text.txt\", \"w\")\n",
    "txt_file.write(\"Hello world\")"
   ]
  },
  {
   "cell_type": "code",
   "execution_count": 6,
   "id": "9329fc63",
   "metadata": {},
   "outputs": [],
   "source": [
    "# now we haven't close the file so message will not be saved as you can see\n",
    "\n",
    "# note if we open file in 'w' mode then all the previous message will be deleted file \n",
    "\n",
    "# and here we opened in 'mode' so message already deleted and didn't close it so message will not be \n",
    "# saved\n",
    "\n",
    "# now to save let's close the file \n",
    "\n",
    "txt_file.close()\n",
    "\n",
    "# now check we got message saved "
   ]
  },
  {
   "cell_type": "code",
   "execution_count": 8,
   "id": "0ec429fb",
   "metadata": {},
   "outputs": [],
   "source": [
    "# append mode we can add more message \n",
    "\n",
    "txt_file = open(\"text.txt\", \"a\")\n",
    "txt_file.write(\"\\nthis is the second message in second line\")\n",
    "txt_file.close()"
   ]
  },
  {
   "cell_type": "code",
   "execution_count": 9,
   "id": "7a90eec1",
   "metadata": {},
   "outputs": [
    {
     "name": "stdout",
     "output_type": "stream",
     "text": [
      "Hello world\n",
      "this is the second message in second line\n"
     ]
    }
   ],
   "source": [
    "# to check here let's read the file \n",
    "\n",
    "txt_file = open(\"text.txt\", \"r\")\n",
    "print(txt_file.read())"
   ]
  },
  {
   "cell_type": "code",
   "execution_count": 10,
   "id": "ffd5a702",
   "metadata": {},
   "outputs": [],
   "source": [
    "txt_file.close()"
   ]
  },
  {
   "cell_type": "code",
   "execution_count": 11,
   "id": "1a06f58b",
   "metadata": {},
   "outputs": [
    {
     "name": "stdout",
     "output_type": "stream",
     "text": [
      "Hello world\n",
      "\n"
     ]
    }
   ],
   "source": [
    "myfile = open(\"text.txt\", 'r')\n",
    "msg = myfile.readline()\n",
    "print(msg)"
   ]
  },
  {
   "cell_type": "code",
   "execution_count": 14,
   "id": "9f868477",
   "metadata": {},
   "outputs": [
    {
     "name": "stdout",
     "output_type": "stream",
     "text": [
      "Hello world\n",
      "\n",
      "this is the second message in second line\n"
     ]
    }
   ],
   "source": [
    "myfile = open(\"text.txt\", 'r')\n",
    "print(myfile.readline())\n",
    "print(myfile.readline())\n"
   ]
  },
  {
   "cell_type": "code",
   "execution_count": 13,
   "id": "b7938ab3",
   "metadata": {},
   "outputs": [
    {
     "name": "stdout",
     "output_type": "stream",
     "text": [
      "Hello world\n",
      "\n",
      "this is the second message in second line\n"
     ]
    }
   ],
   "source": [
    "myfile = open(\"text.txt\", \"r\")\n",
    "for line in myfile.readlines():\n",
    "    print(line)"
   ]
  },
  {
   "cell_type": "code",
   "execution_count": 15,
   "id": "100abbbd",
   "metadata": {},
   "outputs": [
    {
     "data": {
      "text/plain": [
       "['Hello world\\n', 'this is the second message in second line']"
      ]
     },
     "execution_count": 15,
     "metadata": {},
     "output_type": "execute_result"
    }
   ],
   "source": [
    "## note 'readline' read a line at a time and 'readlines()' read all lines and return a list of that \n",
    "\n",
    "myfile = open(\"text.txt\", \"r\")\n",
    "msg = myfile.readlines()\n",
    "msg"
   ]
  },
  {
   "cell_type": "markdown",
   "id": "3f6cc930",
   "metadata": {},
   "source": [
    "#### Rename and Remove files in Python"
   ]
  },
  {
   "cell_type": "code",
   "execution_count": null,
   "id": "cad44acb",
   "metadata": {},
   "outputs": [],
   "source": []
  }
 ],
 "metadata": {
  "kernelspec": {
   "display_name": "Python 3 (ipykernel)",
   "language": "python",
   "name": "python3"
  },
  "language_info": {
   "codemirror_mode": {
    "name": "ipython",
    "version": 3
   },
   "file_extension": ".py",
   "mimetype": "text/x-python",
   "name": "python",
   "nbconvert_exporter": "python",
   "pygments_lexer": "ipython3",
   "version": "3.9.7"
  }
 },
 "nbformat": 4,
 "nbformat_minor": 5
}
